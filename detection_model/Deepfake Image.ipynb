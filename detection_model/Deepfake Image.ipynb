{
 "cells": [
  {
   "cell_type": "code",
   "execution_count": 1,
   "id": "8430a450-bbeb-401c-9a9e-43a6a194213e",
   "metadata": {},
   "outputs": [],
   "source": [
    "import torch\n",
    "from transformers import AutoImageProcessor, AutoModelForImageClassification\n",
    "from PIL import Image\n",
    "import os\n",
    "import glob"
   ]
  },
  {
   "cell_type": "code",
   "execution_count": 2,
   "id": "c8d0563a-8b07-4e5c-8739-b627bb249dea",
   "metadata": {},
   "outputs": [],
   "source": [
    "def load_model():\n",
    "    image_processor = AutoImageProcessor.from_pretrained('ashish-001/deepfake-detection-using-ViT')\n",
    "    model = AutoModelForImageClassification.from_pretrained('ashish-001/deepfake-detection-using-ViT')\n",
    "    return image_processor, model"
   ]
  },
  {
   "cell_type": "code",
   "execution_count": null,
   "id": "381e9a80-db15-454f-9387-2d2013182684",
   "metadata": {},
   "outputs": [],
   "source": [
    "def predict_batch_images(image_folder, image_processor, model, extensions=['jpg', 'jpeg', 'png', 'bmp']):\n",
    "    \"\"\"Predict multiple images from a folder\"\"\"\n",
    "    results = []\n",
    "    \n",
    "    # Get all image files\n",
    "    image_files = []\n",
    "    for ext in extensions:\n",
    "        image_files.extend(glob.glob(os.path.join(image_folder, f\"*.{ext}\")))\n",
    "        image_files.extend(glob.glob(os.path.join(image_folder, f\"*.{ext.upper()}\")))\n",
    "    \n",
    "    print(f\"Found {len(image_files)} images to process\")\n",
    "    \n",
    "    for i, image_path in enumerate(image_files, 1):\n",
    "        print(f\"Processing image {i}/{len(image_files)}: {os.path.basename(image_path)}\")\n",
    "        \n",
    "        label, confidence = predict_single_image(image_path, image_processor, model)\n",
    "        \n",
    "        if label is not None:\n",
    "            results.append({\n",
    "                'image_path': image_path,\n",
    "                'filename': os.path.basename(image_path),\n",
    "                'prediction': label,\n",
    "                'confidence': confidence\n",
    "            })\n",
    "            print(f\"  Result: {label} (confidence: {confidence:.3f})\")\n",
    "        else:\n",
    "            print(f\"  Failed to process\")\n",
    "    \n",
    "    return results"
   ]
  },
  {
   "cell_type": "code",
   "execution_count": null,
   "id": "ad61c04a-83eb-4216-93b8-93c8a0e3c908",
   "metadata": {},
   "outputs": [],
   "source": [
    "def save_results(results, output_file='deepfake_results.txt'):\n",
    "    \"\"\"Save results to a text file\"\"\"\n",
    "    with open(output_file, 'w') as f:\n",
    "        f.write(\"Deepfake Detection Results\\n\")\n",
    "        f.write(\"=\" * 50 + \"\\n\\n\")\n",
    "        \n",
    "        for result in results:\n",
    "            f.write(f\"File: {result['filename']}\\n\")\n",
    "            f.write(f\"Prediction: {result['prediction']}\\n\")\n",
    "            f.write(f\"Confidence: {result['confidence']:.3f}\\n\")\n",
    "            f.write(\"-\" * 30 + \"\\n\")\n",
    "    \n",
    "    print(f\"Results saved to {output_file}\")"
   ]
  },
  {
   "cell_type": "code",
   "execution_count": null,
   "id": "d87ffe10-f3ef-4b66-9cda-dcc00f396784",
   "metadata": {},
   "outputs": [],
   "source": [
    "image_processor, model = load_model()"
   ]
  },
  {
   "cell_type": "code",
   "execution_count": null,
   "id": "7f000157-ffad-42c9-8a59-4154c28c256a",
   "metadata": {},
   "outputs": [],
   "source": [
    "image_folder = \"./images\""
   ]
  }
 ],
 "metadata": {
  "kernelspec": {
   "display_name": "Python 3 (ipykernel)",
   "language": "python",
   "name": "python3"
  },
  "language_info": {
   "codemirror_mode": {
    "name": "ipython",
    "version": 3
   },
   "file_extension": ".py",
   "mimetype": "text/x-python",
   "name": "python",
   "nbconvert_exporter": "python",
   "pygments_lexer": "ipython3",
   "version": "3.12.3"
  }
 },
 "nbformat": 4,
 "nbformat_minor": 5
}
